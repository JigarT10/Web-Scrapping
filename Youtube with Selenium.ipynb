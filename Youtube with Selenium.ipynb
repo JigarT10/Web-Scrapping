{
 "cells": [
  {
   "cell_type": "code",
   "execution_count": 1,
   "id": "860764f7",
   "metadata": {},
   "outputs": [],
   "source": [
    "# !pip install selenium"
   ]
  },
  {
   "cell_type": "code",
   "execution_count": 2,
   "id": "f2e7a1d1",
   "metadata": {},
   "outputs": [],
   "source": [
    "from selenium import webdriver\n",
    "from selenium.webdriver.common.by import By\n",
    "import time\n",
    "\n",
    "# Using Chrome Browser\n",
    "browser = webdriver.Chrome('chromedriver')"
   ]
  },
  {
   "cell_type": "code",
   "execution_count": 3,
   "id": "8c1cef10",
   "metadata": {},
   "outputs": [],
   "source": [
    "# Entering the URL of Youtube\n",
    "url = \"https://www.youtube.com/\"\n",
    "browser.get(url)\n",
    "time.sleep(1)"
   ]
  },
  {
   "cell_type": "markdown",
   "id": "bfeffb77",
   "metadata": {},
   "source": [
    "# Task 1: Go to Trending Section"
   ]
  },
  {
   "cell_type": "code",
   "execution_count": 4,
   "id": "4801e3fd",
   "metadata": {},
   "outputs": [],
   "source": [
    "# Clicking on Hamburger Menu on the Top-Left side\n",
    "button = browser.find_element(By.ID, 'guide-button')\n",
    "button.click()"
   ]
  },
  {
   "cell_type": "code",
   "execution_count": 5,
   "id": "ad718e6a",
   "metadata": {},
   "outputs": [],
   "source": [
    "#  Clicking on Trending\n",
    "button = browser.find_element(By.XPATH ,'/html/body/ytd-app/div[1]/tp-yt-app-drawer/div[2]/div/div[2]/div[2]/ytd-guide-renderer/div[1]/ytd-guide-section-renderer[3]/div/ytd-guide-entry-renderer[1]')\n",
    "button.click()\n",
    "time.sleep(2)"
   ]
  },
  {
   "cell_type": "markdown",
   "id": "6c536c35",
   "metadata": {},
   "source": [
    "# Task 2: Get Video Titles & Links for query. Apply filter of 'Duration Over 20 mins'."
   ]
  },
  {
   "cell_type": "code",
   "execution_count": 6,
   "id": "ec8c047a",
   "metadata": {},
   "outputs": [],
   "source": [
    "# Selecting the Search Box\n",
    "button = browser.find_element(By.XPATH ,'/html/body/ytd-app/div[1]/div/ytd-masthead/div[4]/div[2]/ytd-searchbox/form/div[1]/div[1]/input')\n",
    "button.click()"
   ]
  },
  {
   "cell_type": "code",
   "execution_count": 7,
   "id": "7374ceea",
   "metadata": {},
   "outputs": [],
   "source": [
    "# Enter your query inside the quotes\n",
    "# i.e. what_do_you_want_to_search = 'Python'\n",
    "what_do_you_want_to_search = 'Python'\n",
    "\n",
    "# Entering the query in Search Box\n",
    "button.send_keys(what_do_you_want_to_search)"
   ]
  },
  {
   "cell_type": "code",
   "execution_count": 8,
   "id": "6f6ef950",
   "metadata": {},
   "outputs": [],
   "source": [
    "# Hiting the search button\n",
    "button = browser.find_element(By.XPATH ,'/html/body/ytd-app/div[1]/div/ytd-masthead/div[4]/div[2]/ytd-searchbox/button')\n",
    "button.click()\n",
    "time.sleep(1)"
   ]
  },
  {
   "cell_type": "code",
   "execution_count": 9,
   "id": "e610bdf1",
   "metadata": {},
   "outputs": [],
   "source": [
    "# Clicking on Fillter button\n",
    "button = browser.find_element(By.XPATH ,'/html/body/ytd-app/div[1]/ytd-page-manager/ytd-search/div[1]/ytd-two-column-search-results-renderer/div/ytd-section-list-renderer/div[1]/div[2]/ytd-search-sub-menu-renderer/div/div/ytd-toggle-button-renderer/yt-button-shape/button/yt-touch-feedback-shape/div/div[2]')\n",
    "button.click()\n",
    "time.sleep(1)"
   ]
  },
  {
   "cell_type": "code",
   "execution_count": 10,
   "id": "e8898765",
   "metadata": {},
   "outputs": [],
   "source": [
    "# Applying fillter for longer than 20 minutes video\n",
    "button = browser.find_element(By.XPATH ,'/html/body/ytd-app/div[1]/ytd-page-manager/ytd-search/div[1]/ytd-two-column-search-results-renderer/div/ytd-section-list-renderer/div[1]/div[2]/ytd-search-sub-menu-renderer/div/iron-collapse/div/ytd-search-filter-group-renderer[3]/ytd-search-filter-renderer[3]')\n",
    "button.click()\n",
    "time.sleep(1)"
   ]
  },
  {
   "cell_type": "code",
   "execution_count": 11,
   "id": "2dd8de9b",
   "metadata": {},
   "outputs": [
    {
     "data": {
      "text/plain": [
       "{'Python Tutorial For Beginners In Hindi (With Notes) 🔥': 'https://www.youtube.com/watch?v=gfDE2a7MKjA',\n",
       " 'Python Tutorial for Beginners | Learn Python in 1.5 Hours': 'https://www.youtube.com/watch?v=vLqTf2b6GZw',\n",
       " 'Python Tutorial - Python Full Course for Beginners': 'https://www.youtube.com/watch?v=_uQrJ0TkZlc',\n",
       " 'Learn Python - Full Course for Beginners [Tutorial]': 'https://www.youtube.com/watch?v=rfscVS0vtbw',\n",
       " 'Python Full Tutorial for Beginners - Learn Python Programming in 17 Hours': 'https://www.youtube.com/watch?v=sCOw5y1RQpY',\n",
       " 'Python Crash Course in Hindi | 5 Python Projects | Complete Python Tutorial': 'https://www.youtube.com/watch?v=fqF9M92jzUo',\n",
       " 'Python for Beginners - Learn Python in 1 Hour': 'https://www.youtube.com/watch?v=kqtD5dpn9C8',\n",
       " 'Python Full Course for free 🐍': 'https://www.youtube.com/watch?v=XKHEtdqhLK8',\n",
       " 'Python Tutorial in Hindi | Learn Python in Hindi | Python Full Course in Hindi | Python Tutorial': 'https://www.youtube.com/watch?v=eTyI-M50Hu4',\n",
       " 'Python for Beginners | Full Course': 'https://www.youtube.com/watch?v=YfO28Ihehbk'}"
      ]
     },
     "execution_count": 11,
     "metadata": {},
     "output_type": "execute_result"
    }
   ],
   "source": [
    "# Enter the number of videos' title you want\n",
    "# i.e. number_of_titles_and_links = 10\n",
    "number_of_titles_and_links = 10\n",
    "\n",
    "results = {}\n",
    "\n",
    "for i in range(1,number_of_titles_and_links + 1):\n",
    "    button = browser.find_element(By.XPATH ,'/html/body/ytd-app/div[1]/ytd-page-manager/ytd-search/div[1]/ytd-two-column-search-results-renderer/div/ytd-section-list-renderer/div[2]/ytd-item-section-renderer/div[3]/ytd-video-renderer[{}]/div[1]/div/div[1]/div/h3/a'.format(i))\n",
    "    results.update({button.get_attribute('title'):button.get_attribute('href')})\n",
    "\n",
    "results"
   ]
  },
  {
   "cell_type": "code",
   "execution_count": 13,
   "id": "1af60043",
   "metadata": {},
   "outputs": [],
   "source": [
    "# Closing the window\n",
    "# browser.close()"
   ]
  }
 ],
 "metadata": {
  "kernelspec": {
   "display_name": "Python 3 (ipykernel)",
   "language": "python",
   "name": "python3"
  },
  "language_info": {
   "codemirror_mode": {
    "name": "ipython",
    "version": 3
   },
   "file_extension": ".py",
   "mimetype": "text/x-python",
   "name": "python",
   "nbconvert_exporter": "python",
   "pygments_lexer": "ipython3",
   "version": "3.9.12"
  }
 },
 "nbformat": 4,
 "nbformat_minor": 5
}
